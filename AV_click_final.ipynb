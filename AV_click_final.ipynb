{
 "cells": [
  {
   "cell_type": "code",
   "execution_count": 19,
   "metadata": {},
   "outputs": [
    {
     "data": {
      "application/vnd.jupyter.widget-view+json": {
       "model_id": "62af15c07e244d0da0f141395de1c3c5",
       "version_major": 2,
       "version_minor": 0
      },
      "text/html": [
       "<p>Failed to display Jupyter Widget of type <code>HBox</code>.</p>\n",
       "<p>\n",
       "  If you're reading this message in the Jupyter Notebook or JupyterLab Notebook, it may mean\n",
       "  that the widgets JavaScript is still loading. If this message persists, it\n",
       "  likely means that the widgets JavaScript library is either not installed or\n",
       "  not enabled. See the <a href=\"https://ipywidgets.readthedocs.io/en/stable/user_install.html\">Jupyter\n",
       "  Widgets Documentation</a> for setup instructions.\n",
       "</p>\n",
       "<p>\n",
       "  If you're reading this message in another frontend (for example, a static\n",
       "  rendering on GitHub or <a href=\"https://nbviewer.jupyter.org/\">NBViewer</a>),\n",
       "  it may mean that your frontend doesn't currently support widgets.\n",
       "</p>\n"
      ],
      "text/plain": [
       "HBox(children=(IntProgress(value=1, bar_style=u'info', max=1), HTML(value=u'')))"
      ]
     },
     "metadata": {},
     "output_type": "display_data"
    }
   ],
   "source": [
    "import pandas as pd\n",
    "import numpy as np\n",
    "import matplotlib.pyplot as plt\n",
    "\n",
    "import re\n",
    "# import xgboost\n",
    "\n",
    "import sklearn.metrics as metrics\n",
    "\n",
    "import seaborn as sns\n",
    "\n",
    "import math as m\n",
    "\n",
    "from sklearn.preprocessing import LabelEncoder, StandardScaler\n",
    "\n",
    "# from imblearn.over_sampling import SMOTE\n",
    "\n",
    "import warnings\n",
    "\n",
    "warnings.filterwarnings('ignore')\n",
    "\n",
    "import random\n",
    "\n",
    "from sklearn.cross_validation import KFold\n",
    "\n",
    "%matplotlib inline\n",
    "\n",
    "from matplotlib.colors import ListedColormap\n",
    "\n",
    "from sklearn.ensemble import RandomForestClassifier, GradientBoostingClassifier, ExtraTreesClassifier\n",
    "\n",
    "pd.options.display.max_columns = 500\n",
    "pd.options.display.max_rows = 1000\n",
    "\n",
    "from pylab import rcParams\n",
    "\n",
    "rcParams['figure.figsize'] = 8,6\n",
    "\n",
    "from sklearn.model_selection import GroupKFold\n",
    "\n",
    "# import ak.utility as util\n",
    "\n",
    "from sklearn.linear_model import LogisticRegression\n",
    "\n",
    "from sklearn.neural_network import MLPClassifier, MLPRegressor\n",
    "\n",
    "from sklearn.svm import SVC\n",
    "\n",
    "from tqdm import tqdm_notebook\n",
    "from sklearn.linear_model import LinearRegression\n",
    "import datetime\n",
    "\n",
    "tqdm_notebook().pandas()"
   ]
  },
  {
   "cell_type": "code",
   "execution_count": 20,
   "metadata": {},
   "outputs": [],
   "source": [
    "df = pd.read_csv('/Users/aakashkerawat/NotebookProjects/AV_click/train.csv')\n",
    "df_t = pd.read_csv('/Users/aakashkerawat/NotebookProjects/AV_click/test.csv')\n",
    "df_cam = pd.read_csv('/Users/aakashkerawat/NotebookProjects/AV_click/campaign_data.csv')\n",
    "df_sub = pd.read_csv('/Users/aakashkerawat/NotebookProjects/AV_click/sample_submission_4fcZwvQ.csv')"
   ]
  },
  {
   "cell_type": "code",
   "execution_count": 21,
   "metadata": {},
   "outputs": [],
   "source": [
    "df = df.merge(df_cam, 'left', 'campaign_id')\n",
    "\n",
    "df_t = df_t.merge(df_cam, 'left', 'campaign_id')"
   ]
  },
  {
   "cell_type": "code",
   "execution_count": 22,
   "metadata": {},
   "outputs": [],
   "source": [
    "def parse_date(df_temp, date_col):\n",
    "    df_temp[date_col] = pd.to_datetime(df_temp[date_col], format='%d-%m-%Y %H:%M')\n",
    "    df_temp[date_col+'_dow'] = df_temp[date_col].dt.weekday\n",
    "    df_temp[date_col+'_dom'] = df_temp[date_col].dt.day\n",
    "    df_temp[date_col+'tod'] = df_temp[date_col].dt.hour\n",
    "    return df_temp"
   ]
  },
  {
   "cell_type": "code",
   "execution_count": 23,
   "metadata": {},
   "outputs": [],
   "source": [
    "def other_text_feats(df_temp, all_cols):\n",
    "    for col in all_cols:\n",
    "        df_temp['len_'+col] = df_temp[col].apply(lambda x: len(x.split()))\n",
    "    return df_temp"
   ]
  },
  {
   "cell_type": "code",
   "execution_count": 24,
   "metadata": {},
   "outputs": [],
   "source": [
    "def get_email_number(df_temp):\n",
    "    df_temp['email_number'] = range(1, len(df_temp)+1)\n",
    "    return df_temp"
   ]
  },
  {
   "cell_type": "code",
   "execution_count": 25,
   "metadata": {},
   "outputs": [],
   "source": [
    "def get_date_diff(df_temp):\n",
    "    df_temp['days_since_first_email'] = (df_temp['send_date']-df_temp['send_date'].min()).dt.days\n",
    "    df_temp['days_since_last_email'] = df_temp['days_since_first_email']-df_temp['days_since_first_email'].shift()\n",
    "    return df_temp"
   ]
  },
  {
   "cell_type": "code",
   "execution_count": 26,
   "metadata": {},
   "outputs": [],
   "source": [
    "def add_expanding_mean(df_temp, col):\n",
    "    df_temp = df_temp.sort_values('send_date')\n",
    "    df_temp[col+'_mean'] = df_temp[col].shift().expanding().mean()\n",
    "#     df_temp[col+'_sum'] = df_temp[col].shift().expanding().sum()\n",
    "    return df_temp"
   ]
  },
  {
   "cell_type": "code",
   "execution_count": 27,
   "metadata": {},
   "outputs": [],
   "source": [
    "def get_user_full_feature(df_tr_, df_t_):\n",
    "    df_full = pd.concat([df_tr_, df_t_]).reset_index(drop=True)\n",
    "    print 'adding date diff feature' \n",
    "    user_reg = df_full[['id', 'user_id', 'send_date']].groupby('user_id').progress_apply(get_date_diff)\n",
    "    df_tr_ = df_tr_.merge(user_reg[['id', 'days_since_first_email','days_since_last_email']], 'left', 'id')\n",
    "    df_t_ = df_t_.merge(user_reg[['id', 'days_since_first_email', 'days_since_last_email']], 'left', 'id')\n",
    "    \n",
    "    user_comm_count = df_full.groupby(['user_id', 'communication_type']).size().unstack(1).reset_index()\n",
    "    user_comm_count.columns = [col+'_count' if col!='user_id' else col for col in user_comm_count.columns]\n",
    "\n",
    "    user_comm_count.fillna(0, inplace=True)\n",
    "    df_tr_ = df_tr_.merge(user_comm_count, 'left', 'user_id')\n",
    "    df_t_ = df_t_.merge(user_comm_count, 'left', 'user_id')\n",
    "    \n",
    "    print 'Adding email number feature'\n",
    "    df_sub = df_full[['id', 'user_id', 'send_date']].sort_values(['user_id', 'send_date']).reset_index(drop=True)\n",
    "    email_num = df_sub.groupby(['user_id']).progress_apply(get_email_number)\n",
    "    \n",
    "    df_tr_ = df_tr_.merge(email_num[['id', 'email_number']], 'left', 'id')\n",
    "    df_t_ = df_t_.merge(email_num[['id', 'email_number']], 'left', 'id')\n",
    "    return df_tr_, df_t_"
   ]
  },
  {
   "cell_type": "code",
   "execution_count": 28,
   "metadata": {},
   "outputs": [],
   "source": [
    "def get_user_tr_feature(df_tr_, df_t_):  \n",
    "    print 'Adding click mean feature in rolling fashion'\n",
    "    is_click_mean = df_tr_[['id', 'user_id', 'send_date', 'is_click']].groupby('user_id').progress_apply(lambda x: add_expanding_mean(x, 'is_click'))\n",
    "    df_tr_ = df_tr_.merge(is_click_mean[['id', 'is_click_mean']], 'left', ['id'])\n",
    "    is_click_mean_all = df_tr_.groupby('user_id')['is_click'].mean().reset_index().rename(columns={'is_click':'is_click_mean'})\n",
    "    df_t_ = df_t_.merge(is_click_mean_all, 'left', ['user_id'])\n",
    "\n",
    "\n",
    "    print 'Adding open mean feature in rolling fashion'\n",
    "    is_open_mean = df_tr_[['id', 'user_id', 'send_date', 'is_open']].groupby('user_id').progress_apply(lambda x: add_expanding_mean(x, 'is_open'))\n",
    "    df_tr_ = df_tr_.merge(is_open_mean[['id', 'is_open_mean']], 'left', ['id'])\n",
    "    is_open_mean_all = df_tr_.groupby('user_id')['is_open'].mean().reset_index().rename(columns={'is_open':'is_open_mean'})\n",
    "    df_t_ = df_t_.merge(is_open_mean_all, 'left', ['user_id'])    \n",
    "    return df_tr_, df_t_"
   ]
  },
  {
   "cell_type": "code",
   "execution_count": 29,
   "metadata": {},
   "outputs": [],
   "source": [
    "def get_subject_info(value):\n",
    "    out = re.findall('\\[\\w*\\s*\\w*]', value)\n",
    "    if len(out):\n",
    "        return out[0].replace('[', '').replace(']', '')\n",
    "    else: return np.nan"
   ]
  },
  {
   "cell_type": "code",
   "execution_count": 30,
   "metadata": {},
   "outputs": [],
   "source": [
    "def get_last_click_date(df_temp, target):\n",
    "    df_temp['last_'+target+'_date'] = df_temp.loc[df_temp[target].fillna(0).astype(bool), 'send_date']\n",
    "    df_temp['last_'+target+'_date'] = df_temp['last_'+target+'_date'].shift().ffill()\n",
    "    return df_temp"
   ]
  },
  {
   "cell_type": "code",
   "execution_count": 31,
   "metadata": {},
   "outputs": [],
   "source": [
    "df = parse_date(df, 'send_date')\n",
    "\n",
    "df_t = parse_date(df_t, 'send_date')"
   ]
  },
  {
   "cell_type": "code",
   "execution_count": 32,
   "metadata": {},
   "outputs": [],
   "source": [
    "df_all = pd.concat([df, df_t]).sort_values(['user_id', 'send_date']).reset_index(drop=True)"
   ]
  },
  {
   "cell_type": "code",
   "execution_count": 36,
   "metadata": {},
   "outputs": [
    {
     "data": {
      "application/vnd.jupyter.widget-view+json": {
       "model_id": "cc4090821b59455db68c3fd87068b2d2",
       "version_major": 2,
       "version_minor": 0
      },
      "text/html": [
       "<p>Failed to display Jupyter Widget of type <code>HBox</code>.</p>\n",
       "<p>\n",
       "  If you're reading this message in the Jupyter Notebook or JupyterLab Notebook, it may mean\n",
       "  that the widgets JavaScript is still loading. If this message persists, it\n",
       "  likely means that the widgets JavaScript library is either not installed or\n",
       "  not enabled. See the <a href=\"https://ipywidgets.readthedocs.io/en/stable/user_install.html\">Jupyter\n",
       "  Widgets Documentation</a> for setup instructions.\n",
       "</p>\n",
       "<p>\n",
       "  If you're reading this message in another frontend (for example, a static\n",
       "  rendering on GitHub or <a href=\"https://nbviewer.jupyter.org/\">NBViewer</a>),\n",
       "  it may mean that your frontend doesn't currently support widgets.\n",
       "</p>\n"
      ],
      "text/plain": [
       "HBox(children=(IntProgress(value=0, max=220719), HTML(value=u'')))"
      ]
     },
     "metadata": {},
     "output_type": "display_data"
    }
   ],
   "source": [
    "df_all = df_all.groupby('user_id').progress_apply(get_last_click_date, 'is_open')"
   ]
  },
  {
   "cell_type": "code",
   "execution_count": 37,
   "metadata": {
    "scrolled": true
   },
   "outputs": [
    {
     "data": {
      "application/vnd.jupyter.widget-view+json": {
       "model_id": "568b1bc65ce04cd3b4e619f75047ac46",
       "version_major": 2,
       "version_minor": 0
      },
      "text/html": [
       "<p>Failed to display Jupyter Widget of type <code>HBox</code>.</p>\n",
       "<p>\n",
       "  If you're reading this message in the Jupyter Notebook or JupyterLab Notebook, it may mean\n",
       "  that the widgets JavaScript is still loading. If this message persists, it\n",
       "  likely means that the widgets JavaScript library is either not installed or\n",
       "  not enabled. See the <a href=\"https://ipywidgets.readthedocs.io/en/stable/user_install.html\">Jupyter\n",
       "  Widgets Documentation</a> for setup instructions.\n",
       "</p>\n",
       "<p>\n",
       "  If you're reading this message in another frontend (for example, a static\n",
       "  rendering on GitHub or <a href=\"https://nbviewer.jupyter.org/\">NBViewer</a>),\n",
       "  it may mean that your frontend doesn't currently support widgets.\n",
       "</p>\n"
      ],
      "text/plain": [
       "HBox(children=(IntProgress(value=0, max=220719), HTML(value=u'')))"
      ]
     },
     "metadata": {},
     "output_type": "display_data"
    }
   ],
   "source": [
    "ew_mean = df_all.groupby('user_id')['is_click'].progress_apply(lambda x: x.shift().ewm(alpha=0.77).mean())\n",
    "\n",
    "df_all['is_click_ewm'] = ew_mean"
   ]
  },
  {
   "cell_type": "code",
   "execution_count": 38,
   "metadata": {
    "scrolled": true
   },
   "outputs": [],
   "source": [
    "# ew_mean = df_all.groupby('user_id')['is_open'].progress_apply(lambda x: x.shift().ewm(alpha=0.77).mean())\n",
    "\n",
    "# df_all['is_open_ewm'] = ew_mean"
   ]
  },
  {
   "cell_type": "code",
   "execution_count": 39,
   "metadata": {
    "scrolled": true
   },
   "outputs": [],
   "source": [
    "# ew_mean = df_all.groupby('user_id')['is_click'].progress_apply(lambda x: x.shift().ewm(alpha=0.4).mean())\n",
    "\n",
    "# df_all['is_click_ewm_2'] = ew_mean"
   ]
  },
  {
   "cell_type": "code",
   "execution_count": 40,
   "metadata": {},
   "outputs": [],
   "source": [
    "# window_2_mean = df_all.groupby('user_id')['is_click'].progress_apply(lambda x: x.shift().rolling(window=2).mean().ffill())\n",
    "\n",
    "# df_all['is_click_w2_mean'] = window_2_mean"
   ]
  },
  {
   "cell_type": "code",
   "execution_count": 41,
   "metadata": {},
   "outputs": [],
   "source": [
    "df = df_all.loc[df_all['id'].isin(df['id'].unique())].reset_index(drop=True)"
   ]
  },
  {
   "cell_type": "code",
   "execution_count": 42,
   "metadata": {},
   "outputs": [],
   "source": [
    "df_t = df_all.loc[df_all['id'].isin(df_t['id'].unique())].reset_index(drop=True)"
   ]
  },
  {
   "cell_type": "code",
   "execution_count": 43,
   "metadata": {},
   "outputs": [],
   "source": [
    "# df['last_click_before_days'] = (df['send_date'] - df['last_click_date']).dt.days\n",
    "\n",
    "# df_t['last_click_before_days'] = (df_t['send_date'] - df_t['last_click_date']).dt.days"
   ]
  },
  {
   "cell_type": "code",
   "execution_count": 44,
   "metadata": {},
   "outputs": [],
   "source": [
    "df['last_is_open_before_days'] = (df['send_date'] - df['last_is_open_date']).dt.days"
   ]
  },
  {
   "cell_type": "code",
   "execution_count": 45,
   "metadata": {},
   "outputs": [],
   "source": [
    "df_t['last_is_open_before_days'] = (df_t['send_date'] - df_t['last_is_open_date']).dt.days"
   ]
  },
  {
   "cell_type": "code",
   "execution_count": 46,
   "metadata": {},
   "outputs": [],
   "source": [
    "del df_all"
   ]
  },
  {
   "cell_type": "code",
   "execution_count": 47,
   "metadata": {},
   "outputs": [],
   "source": [
    "df = other_text_feats(df, ['subject', 'email_body'])\n",
    "df_t = other_text_feats(df_t, ['subject', 'email_body'])"
   ]
  },
  {
   "cell_type": "code",
   "execution_count": 48,
   "metadata": {},
   "outputs": [],
   "source": [
    "df_t['is_click'] = np.nan\n",
    "df_t['is_open'] = np.nan"
   ]
  },
  {
   "cell_type": "code",
   "execution_count": 49,
   "metadata": {},
   "outputs": [],
   "source": [
    "df = df.sort_values(['user_id', 'send_date']).reset_index(drop=True)\n",
    "df_t = df_t.sort_values(['user_id', 'send_date']).reset_index(drop=True)"
   ]
  },
  {
   "cell_type": "code",
   "execution_count": 50,
   "metadata": {
    "scrolled": true
   },
   "outputs": [
    {
     "name": "stdout",
     "output_type": "stream",
     "text": [
      "adding date diff feature\n"
     ]
    },
    {
     "data": {
      "application/vnd.jupyter.widget-view+json": {
       "model_id": "1538e4c0d4c948d5a4f3c4a7a6566eea",
       "version_major": 2,
       "version_minor": 0
      },
      "text/html": [
       "<p>Failed to display Jupyter Widget of type <code>HBox</code>.</p>\n",
       "<p>\n",
       "  If you're reading this message in the Jupyter Notebook or JupyterLab Notebook, it may mean\n",
       "  that the widgets JavaScript is still loading. If this message persists, it\n",
       "  likely means that the widgets JavaScript library is either not installed or\n",
       "  not enabled. See the <a href=\"https://ipywidgets.readthedocs.io/en/stable/user_install.html\">Jupyter\n",
       "  Widgets Documentation</a> for setup instructions.\n",
       "</p>\n",
       "<p>\n",
       "  If you're reading this message in another frontend (for example, a static\n",
       "  rendering on GitHub or <a href=\"https://nbviewer.jupyter.org/\">NBViewer</a>),\n",
       "  it may mean that your frontend doesn't currently support widgets.\n",
       "</p>\n"
      ],
      "text/plain": [
       "HBox(children=(IntProgress(value=0, max=220719), HTML(value=u'')))"
      ]
     },
     "metadata": {},
     "output_type": "display_data"
    },
    {
     "name": "stdout",
     "output_type": "stream",
     "text": [
      "Adding email number feature\n"
     ]
    },
    {
     "data": {
      "application/vnd.jupyter.widget-view+json": {
       "model_id": "0af15cc54de24071acd4f1578a1b9f2f",
       "version_major": 2,
       "version_minor": 0
      },
      "text/html": [
       "<p>Failed to display Jupyter Widget of type <code>HBox</code>.</p>\n",
       "<p>\n",
       "  If you're reading this message in the Jupyter Notebook or JupyterLab Notebook, it may mean\n",
       "  that the widgets JavaScript is still loading. If this message persists, it\n",
       "  likely means that the widgets JavaScript library is either not installed or\n",
       "  not enabled. See the <a href=\"https://ipywidgets.readthedocs.io/en/stable/user_install.html\">Jupyter\n",
       "  Widgets Documentation</a> for setup instructions.\n",
       "</p>\n",
       "<p>\n",
       "  If you're reading this message in another frontend (for example, a static\n",
       "  rendering on GitHub or <a href=\"https://nbviewer.jupyter.org/\">NBViewer</a>),\n",
       "  it may mean that your frontend doesn't currently support widgets.\n",
       "</p>\n"
      ],
      "text/plain": [
       "HBox(children=(IntProgress(value=0, max=220719), HTML(value=u'')))"
      ]
     },
     "metadata": {},
     "output_type": "display_data"
    }
   ],
   "source": [
    "df, df_t = get_user_full_feature(df, df_t)"
   ]
  },
  {
   "cell_type": "code",
   "execution_count": 51,
   "metadata": {},
   "outputs": [
    {
     "name": "stdout",
     "output_type": "stream",
     "text": [
      "Adding click mean feature in rolling fashion\n"
     ]
    },
    {
     "data": {
      "application/vnd.jupyter.widget-view+json": {
       "model_id": "ec51be3c62ba43f2a5927fd803471950",
       "version_major": 2,
       "version_minor": 0
      },
      "text/html": [
       "<p>Failed to display Jupyter Widget of type <code>HBox</code>.</p>\n",
       "<p>\n",
       "  If you're reading this message in the Jupyter Notebook or JupyterLab Notebook, it may mean\n",
       "  that the widgets JavaScript is still loading. If this message persists, it\n",
       "  likely means that the widgets JavaScript library is either not installed or\n",
       "  not enabled. See the <a href=\"https://ipywidgets.readthedocs.io/en/stable/user_install.html\">Jupyter\n",
       "  Widgets Documentation</a> for setup instructions.\n",
       "</p>\n",
       "<p>\n",
       "  If you're reading this message in another frontend (for example, a static\n",
       "  rendering on GitHub or <a href=\"https://nbviewer.jupyter.org/\">NBViewer</a>),\n",
       "  it may mean that your frontend doesn't currently support widgets.\n",
       "</p>\n"
      ],
      "text/plain": [
       "HBox(children=(IntProgress(value=0, max=168237), HTML(value=u'')))"
      ]
     },
     "metadata": {},
     "output_type": "display_data"
    },
    {
     "name": "stdout",
     "output_type": "stream",
     "text": [
      "Adding open mean feature in rolling fashion\n"
     ]
    },
    {
     "data": {
      "application/vnd.jupyter.widget-view+json": {
       "model_id": "e14b21ec8b4947d6945025dd6941bff2",
       "version_major": 2,
       "version_minor": 0
      },
      "text/html": [
       "<p>Failed to display Jupyter Widget of type <code>HBox</code>.</p>\n",
       "<p>\n",
       "  If you're reading this message in the Jupyter Notebook or JupyterLab Notebook, it may mean\n",
       "  that the widgets JavaScript is still loading. If this message persists, it\n",
       "  likely means that the widgets JavaScript library is either not installed or\n",
       "  not enabled. See the <a href=\"https://ipywidgets.readthedocs.io/en/stable/user_install.html\">Jupyter\n",
       "  Widgets Documentation</a> for setup instructions.\n",
       "</p>\n",
       "<p>\n",
       "  If you're reading this message in another frontend (for example, a static\n",
       "  rendering on GitHub or <a href=\"https://nbviewer.jupyter.org/\">NBViewer</a>),\n",
       "  it may mean that your frontend doesn't currently support widgets.\n",
       "</p>\n"
      ],
      "text/plain": [
       "HBox(children=(IntProgress(value=0, max=168237), HTML(value=u'')))"
      ]
     },
     "metadata": {},
     "output_type": "display_data"
    }
   ],
   "source": [
    "df, df_t = get_user_tr_feature(df, df_t)"
   ]
  },
  {
   "cell_type": "code",
   "execution_count": 52,
   "metadata": {},
   "outputs": [],
   "source": [
    "df['subject_info'] = df['subject'].apply(get_subject_info)\n",
    "\n",
    "df_t['subject_info'] = df_t['subject'].apply(get_subject_info)"
   ]
  },
  {
   "cell_type": "code",
   "execution_count": 53,
   "metadata": {},
   "outputs": [],
   "source": [
    "cam_mean = df.groupby('campaign_id')['is_click'].mean().reset_index().rename(columns={'is_click':'is_click_campaign_id_mean'})"
   ]
  },
  {
   "cell_type": "code",
   "execution_count": 54,
   "metadata": {},
   "outputs": [],
   "source": [
    "df = df.merge(cam_mean, 'left', 'campaign_id')\n",
    "\n",
    "df_t = df_t.merge(cam_mean, 'left', 'campaign_id')"
   ]
  },
  {
   "cell_type": "code",
   "execution_count": 55,
   "metadata": {},
   "outputs": [],
   "source": [
    "# final predictors list\n",
    "# [u'communication_type', u'total_links', u'no_of_internal_links',\n",
    "#        u'no_of_images', u'no_of_sections', u'send_date_dow', u'send_date_dom',\n",
    "#        u'send_datetod', u'len_subject', u'len_email_body',\n",
    "#        u'days_since_first_email', u'email_number', u'days_since_last_email',\n",
    "#        u'is_click_mean', u'is_open_mean', u'Conference_count',\n",
    "#        u'Corporate_count', u'Hackathon_count', u'Newsletter_count',\n",
    "#        u'Others_count', u'Upcoming Events_count', u'Webinar_count',\n",
    "#        u'is_click_campaign_id_mean']"
   ]
  },
  {
   "cell_type": "code",
   "execution_count": 98,
   "metadata": {},
   "outputs": [],
   "source": [
    "drop_list = ['id', 'user_id', 'campaign_id', 'send_date', 'is_open', 'is_click', 'email_url', 'subject', 'email_body'\n",
    "            , 'subject_info',  'last_is_open_date']#+[col for col in df.columns if 'count_new' in col]# + [col for col in df_tr.columns if \"mean\" in col]\n",
    "\n",
    "predictors = df.columns.drop(drop_list)"
   ]
  },
  {
   "cell_type": "code",
   "execution_count": 99,
   "metadata": {},
   "outputs": [
    {
     "data": {
      "text/plain": [
       "25"
      ]
     },
     "execution_count": 99,
     "metadata": {},
     "output_type": "execute_result"
    }
   ],
   "source": [
    "len(predictors)"
   ]
  },
  {
   "cell_type": "code",
   "execution_count": 606,
   "metadata": {},
   "outputs": [],
   "source": [
    "# Feature\n",
    "# campaign id difference - intuition after how many campaigns that campign is sent since this is a random sample from all data\n",
    "# Time since registration i.e. current_date_constant - user_send_date.min()"
   ]
  },
  {
   "cell_type": "code",
   "execution_count": 77,
   "metadata": {},
   "outputs": [],
   "source": [
    "# [u'Conference_count', u'Corporate_count', u'Hackathon_count',\n",
    "#        u'Newsletter_count', u'Others_count', u'Upcoming Events_count',\n",
    "#        u'Webinar_count', u'communication_type', u'days_since_first_email',\n",
    "#        u'days_since_last_email', u'email_number', u'is_click_campaign_id_mean',\n",
    "#        u'is_click_mean', u'is_open_mean', u'len_email_body', u'len_subject',\n",
    "#        u'no_of_images', u'no_of_internal_links', u'no_of_sections',\n",
    "#        u'send_date_dom', u'send_date_dow', u'send_datetod', u'total_links',\n",
    "#        u'is_click_ewm', u'last_is_open_before_days']"
   ]
  },
  {
   "cell_type": "code",
   "execution_count": 82,
   "metadata": {
    "scrolled": true
   },
   "outputs": [
    {
     "data": {
      "text/plain": [
       "Index([u'communication_type', u'no_of_images', u'no_of_internal_links',\n",
       "       u'no_of_sections', u'send_date_dom', u'send_date_dow', u'send_datetod',\n",
       "       u'total_links', u'is_click_ewm', u'last_is_open_before_days',\n",
       "       u'len_subject', u'len_email_body', u'days_since_first_email',\n",
       "       u'days_since_last_email', u'Conference_count', u'Corporate_count',\n",
       "       u'Hackathon_count', u'Newsletter_count', u'Others_count',\n",
       "       u'Upcoming Events_count', u'Webinar_count', u'email_number',\n",
       "       u'is_click_mean', u'is_open_mean', u'is_click_campaign_id_mean'],\n",
       "      dtype='object')"
      ]
     },
     "execution_count": 82,
     "metadata": {},
     "output_type": "execute_result"
    }
   ],
   "source": [
    "predictors"
   ]
  },
  {
   "cell_type": "code",
   "execution_count": 60,
   "metadata": {},
   "outputs": [],
   "source": [
    "from sklearn import model_selection\n",
    "import lightgbm"
   ]
  },
  {
   "cell_type": "code",
   "execution_count": 62,
   "metadata": {},
   "outputs": [],
   "source": [
    "#curr best\n",
    "lgb = lightgbm.LGBMClassifier(n_estimators=700, learning_rate=0.04, max_depth=4, reg_lambda=10, reg_alpha=3)"
   ]
  },
  {
   "cell_type": "code",
   "execution_count": 682,
   "metadata": {},
   "outputs": [],
   "source": [
    "lgb = catboost.CatBoostClassifier(n_estimators=700, learning_rate=0.04, max_depth=4)"
   ]
  },
  {
   "cell_type": "code",
   "execution_count": 680,
   "metadata": {},
   "outputs": [],
   "source": [
    "# import catboost"
   ]
  },
  {
   "cell_type": "code",
   "execution_count": 672,
   "metadata": {},
   "outputs": [],
   "source": [
    "# lgb = lightgbm.LGBMClassifier(feature_fraction=0.8, n_estimators=800, learning_rate=0.04, max_depth=4, reg_lambda=10, reg_alpha=3, eval_metric='AUC')"
   ]
  },
  {
   "cell_type": "code",
   "execution_count": 63,
   "metadata": {},
   "outputs": [],
   "source": [
    "df_f = df.copy()\n",
    "\n",
    "df_f_t = df_t.copy()"
   ]
  },
  {
   "cell_type": "code",
   "execution_count": 64,
   "metadata": {},
   "outputs": [],
   "source": [
    "def encode(column):\n",
    "    unique_dict = {}\n",
    "    for i, uni in enumerate(column.unique()):\n",
    "        unique_dict[uni] = i\n",
    "    return unique_dict"
   ]
  },
  {
   "cell_type": "code",
   "execution_count": 65,
   "metadata": {},
   "outputs": [
    {
     "name": "stdout",
     "output_type": "stream",
     "text": [
      "communication_type\n"
     ]
    }
   ],
   "source": [
    "le_dict = {}\n",
    "for col in predictors:\n",
    "    if df_f[col].dtype == 'O':\n",
    "        print col\n",
    "#         le = preprocessing.LabelEncoder()\n",
    "#         le_dict[col] = le\n",
    "        encode_dict = encode(pd.concat([df_f[col], df_f_t[col]]))#, df_f_tr[col], df_f_v[col]]))\n",
    "        df_f[col] = df_f[col].map(encode_dict)\n",
    "#         df_f_tr[col] = df_f_tr[col].map(encode_dict)\n",
    "#         df_f_v[col] = df_f_v[col].map(encode_dict)\n",
    "        df_f_t[col] = df_f_t[col].map(encode_dict)"
   ]
  },
  {
   "cell_type": "code",
   "execution_count": 91,
   "metadata": {},
   "outputs": [],
   "source": [
    "kf = model_selection.KFold(random_state=2018, n_splits=5)"
   ]
  },
  {
   "cell_type": "code",
   "execution_count": 67,
   "metadata": {},
   "outputs": [],
   "source": [
    "df_f = df_f.sort_values('send_date').reset_index(drop=True)"
   ]
  },
  {
   "cell_type": "code",
   "execution_count": 232,
   "metadata": {
    "scrolled": true
   },
   "outputs": [
    {
     "name": "stdout",
     "output_type": "stream",
     "text": [
      "Train = 0.8355076822455227\n",
      "Cv = 0.6704210567567066 \n",
      "\n"
     ]
    }
   ],
   "source": [
    "for train_i, cv_i in kf.split(df_f):\n",
    "    train_df = df_f.loc[train_i]\n",
    "    cv_df = df_f.loc[cv_i]\n",
    "#     train_df = pd.concat([train_df.loc[train_df['is_click']==1].sample(4000), train_df.loc[train_df['is_click']==0]])\n",
    "#     print 'Ratio =', train_df['is_click'].mean()\n",
    "#     train_df = train_df.loc[train_df.campaign_id.isin(top_camps)].reset_index(drop=True)\n",
    "    lgb.fit(train_df[predictors], train_df['is_click'])\n",
    "    cv_df['is_click_campaign_id_mean'] = 0\n",
    "    tr_preds = lgb.predict_proba(train_df[predictors])[:,1]\n",
    "#     cv_df['is_click_campaign_id_mean'] = np.nan\n",
    "    cv_preds = lgb.predict_proba(cv_df[predictors])[:,1]\n",
    "    \n",
    "    print 'Train =',metrics.roc_auc_score(train_df['is_click'], tr_preds)\n",
    "    print 'Cv =',metrics.roc_auc_score(cv_df['is_click'], cv_preds), '\\n'\n",
    "    break"
   ]
  },
  {
   "cell_type": "code",
   "execution_count": 179,
   "metadata": {
    "scrolled": false
   },
   "outputs": [
    {
     "data": {
      "text/plain": [
       "<matplotlib.axes._subplots.AxesSubplot at 0x1a696da490>"
      ]
     },
     "execution_count": 179,
     "metadata": {},
     "output_type": "execute_result"
    },
    {
     "data": {
      "image/png": "[encoded data removed]",
      "text/plain": [
       "<matplotlib.figure.Figure at 0x1a695b9c50>"
      ]
     },
     "metadata": {},
     "output_type": "display_data"
    }
   ],
   "source": [
    "lightgbm.plot_importance(lgb, importance_type='gain')"
   ]
  },
  {
   "cell_type": "code",
   "execution_count": 151,
   "metadata": {},
   "outputs": [],
   "source": [
    "# com_sample_ratio = ((df_f_t.communication_type.value_counts()/df_f_t.shape[0])/0.3904).to_dict()\n",
    "\n",
    "# train_hack_c = df_f.communication_type.value_counts()[1]\n",
    "\n",
    "# train_hack_c\n",
    "\n",
    "# com_sample_ratio\n",
    "\n",
    "# df_f_n = pd.DataFrame()\n",
    "# for comm in df_f_t.communication_type.unique():\n",
    "#     try:\n",
    "#         df_curr = df_f.loc[df_f['communication_type']==comm].sample(int(train_hack_c))\n",
    "#     except ValueError:\n",
    "#         df_curr = df_f.loc[df_f['communication_type']==comm].sample(int(train_hack_c), replace=True)\n",
    "#     df_f_n = pd.concat([df_f_n, df_curr])\n",
    "\n",
    "# df_f_n.communication_type.value_counts()\n",
    "\n",
    "# df_f_n.reset_index(drop=True,inplace=True)"
   ]
  },
  {
   "cell_type": "code",
   "execution_count": 178,
   "metadata": {
    "scrolled": true
   },
   "outputs": [
    {
     "data": {
      "text/plain": [
       "LGBMClassifier(boosting_type='gbdt', class_weight=None, colsample_bytree=1.0,\n",
       "        learning_rate=0.04, max_depth=4, min_child_samples=20,\n",
       "        min_child_weight=0.001, min_split_gain=0.0, n_estimators=700,\n",
       "        n_jobs=-1, num_leaves=31, objective=None, random_state=None,\n",
       "        reg_alpha=3, reg_lambda=10, silent=True, subsample=1.0,\n",
       "        subsample_for_bin=200000, subsample_freq=1)"
      ]
     },
     "execution_count": 178,
     "metadata": {},
     "output_type": "execute_result"
    }
   ],
   "source": [
    "# training on full dataset\n",
    "lgb.fit(df_f[predictors], df_f['is_click'])"
   ]
  },
  {
   "cell_type": "code",
   "execution_count": 266,
   "metadata": {},
   "outputs": [
    {
     "name": "stdout",
     "output_type": "stream",
     "text": [
      "12 model trained\n",
      "13 model trained\n",
      "14 model trained\n",
      "15 model trained\n",
      "16 model trained\n",
      "17 model trained\n"
     ]
    }
   ],
   "source": [
    "# preds_df = pd.DataFrame()\n",
    "for i in range(1, 18):\n",
    "    #curr best\n",
    "    lgb = lightgbm.LGBMClassifier(n_estimators=700, learning_rate=0.04, max_depth=4, reg_lambda=10, reg_alpha=3, seed=i)\n",
    "    # training on full dataset\n",
    "    lgb.fit(df_f[predictors], df_f['is_click'])\n",
    "    preds_df['pred_{}'.format(i)] = lgb.predict_proba(df_f_t[predictors])[:,1]\n",
    "    print i, 'model trained'"
   ]
  },
  {
   "cell_type": "code",
   "execution_count": 186,
   "metadata": {},
   "outputs": [],
   "source": [
    "df_f_t['is_click_campaign_id_mean'] = 0"
   ]
  },
  {
   "cell_type": "code",
   "execution_count": 181,
   "metadata": {},
   "outputs": [],
   "source": [
    "preds_t = lgb.predict_proba(df_f_t[predictors])[:,1]"
   ]
  },
  {
   "cell_type": "code",
   "execution_count": 190,
   "metadata": {},
   "outputs": [
    {
     "data": {
      "text/plain": [
       "array([0.00553573, 0.01449059, 0.00240888, ..., 0.00882201, 0.00994609,\n",
       "       0.0181607 ])"
      ]
     },
     "execution_count": 190,
     "metadata": {},
     "output_type": "execute_result"
    }
   ],
   "source": [
    "preds_t"
   ]
  },
  {
   "cell_type": "code",
   "execution_count": 267,
   "metadata": {},
   "outputs": [
    {
     "data": {
      "text/html": [
       "<div>\n",
       "<style scoped>\n",
       "    .dataframe tbody tr th:only-of-type {\n",
       "        vertical-align: middle;\n",
       "    }\n",
       "\n",
       "    .dataframe tbody tr th {\n",
       "        vertical-align: top;\n",
       "    }\n",
       "\n",
       "    .dataframe thead th {\n",
       "        text-align: right;\n",
       "    }\n",
       "</style>\n",
       "<table border=\"1\" class=\"dataframe\">\n",
       "  <thead>\n",
       "    <tr style=\"text-align: right;\">\n",
       "      <th></th>\n",
       "      <th>pred_1</th>\n",
       "      <th>pred_2</th>\n",
       "      <th>pred_3</th>\n",
       "      <th>pred_4</th>\n",
       "      <th>pred_5</th>\n",
       "      <th>pred_6</th>\n",
       "      <th>pred_7</th>\n",
       "      <th>pred_8</th>\n",
       "      <th>pred_9</th>\n",
       "      <th>pred_10</th>\n",
       "      <th>pred_11</th>\n",
       "      <th>pred_12</th>\n",
       "      <th>pred_13</th>\n",
       "      <th>pred_14</th>\n",
       "      <th>pred_15</th>\n",
       "      <th>pred_16</th>\n",
       "      <th>pred_17</th>\n",
       "    </tr>\n",
       "  </thead>\n",
       "  <tbody>\n",
       "    <tr>\n",
       "      <th>0</th>\n",
       "      <td>0.002851</td>\n",
       "      <td>0.003158</td>\n",
       "      <td>0.002953</td>\n",
       "      <td>0.003100</td>\n",
       "      <td>0.002700</td>\n",
       "      <td>0.002586</td>\n",
       "      <td>0.003125</td>\n",
       "      <td>0.002991</td>\n",
       "      <td>0.003046</td>\n",
       "      <td>0.003250</td>\n",
       "      <td>0.003090</td>\n",
       "      <td>0.003149</td>\n",
       "      <td>0.002690</td>\n",
       "      <td>0.002516</td>\n",
       "      <td>0.002553</td>\n",
       "      <td>0.002854</td>\n",
       "      <td>0.002855</td>\n",
       "    </tr>\n",
       "    <tr>\n",
       "      <th>1</th>\n",
       "      <td>0.002192</td>\n",
       "      <td>0.002115</td>\n",
       "      <td>0.002493</td>\n",
       "      <td>0.001982</td>\n",
       "      <td>0.002217</td>\n",
       "      <td>0.002229</td>\n",
       "      <td>0.002569</td>\n",
       "      <td>0.002028</td>\n",
       "      <td>0.002459</td>\n",
       "      <td>0.002312</td>\n",
       "      <td>0.001856</td>\n",
       "      <td>0.002003</td>\n",
       "      <td>0.002123</td>\n",
       "      <td>0.002108</td>\n",
       "      <td>0.002202</td>\n",
       "      <td>0.001942</td>\n",
       "      <td>0.002289</td>\n",
       "    </tr>\n",
       "    <tr>\n",
       "      <th>2</th>\n",
       "      <td>0.002570</td>\n",
       "      <td>0.002624</td>\n",
       "      <td>0.002716</td>\n",
       "      <td>0.002336</td>\n",
       "      <td>0.002297</td>\n",
       "      <td>0.002335</td>\n",
       "      <td>0.002705</td>\n",
       "      <td>0.002249</td>\n",
       "      <td>0.002497</td>\n",
       "      <td>0.002378</td>\n",
       "      <td>0.002280</td>\n",
       "      <td>0.002291</td>\n",
       "      <td>0.002206</td>\n",
       "      <td>0.002348</td>\n",
       "      <td>0.002437</td>\n",
       "      <td>0.002302</td>\n",
       "      <td>0.002713</td>\n",
       "    </tr>\n",
       "    <tr>\n",
       "      <th>3</th>\n",
       "      <td>0.002745</td>\n",
       "      <td>0.002488</td>\n",
       "      <td>0.002867</td>\n",
       "      <td>0.002221</td>\n",
       "      <td>0.002736</td>\n",
       "      <td>0.002780</td>\n",
       "      <td>0.002883</td>\n",
       "      <td>0.002378</td>\n",
       "      <td>0.002684</td>\n",
       "      <td>0.002614</td>\n",
       "      <td>0.002153</td>\n",
       "      <td>0.002150</td>\n",
       "      <td>0.002243</td>\n",
       "      <td>0.002653</td>\n",
       "      <td>0.002657</td>\n",
       "      <td>0.002361</td>\n",
       "      <td>0.002874</td>\n",
       "    </tr>\n",
       "    <tr>\n",
       "      <th>4</th>\n",
       "      <td>0.002279</td>\n",
       "      <td>0.002258</td>\n",
       "      <td>0.002313</td>\n",
       "      <td>0.002118</td>\n",
       "      <td>0.002343</td>\n",
       "      <td>0.002250</td>\n",
       "      <td>0.002587</td>\n",
       "      <td>0.002292</td>\n",
       "      <td>0.002352</td>\n",
       "      <td>0.002558</td>\n",
       "      <td>0.002064</td>\n",
       "      <td>0.002209</td>\n",
       "      <td>0.002011</td>\n",
       "      <td>0.002062</td>\n",
       "      <td>0.002234</td>\n",
       "      <td>0.002247</td>\n",
       "      <td>0.002493</td>\n",
       "    </tr>\n",
       "  </tbody>\n",
       "</table>\n",
       "</div>"
      ],
      "text/plain": [
       "     pred_1    pred_2    pred_3    pred_4    pred_5    pred_6    pred_7  \\\n",
       "0  0.002851  0.003158  0.002953  0.003100  0.002700  0.002586  0.003125   \n",
       "1  0.002192  0.002115  0.002493  0.001982  0.002217  0.002229  0.002569   \n",
       "2  0.002570  0.002624  0.002716  0.002336  0.002297  0.002335  0.002705   \n",
       "3  0.002745  0.002488  0.002867  0.002221  0.002736  0.002780  0.002883   \n",
       "4  0.002279  0.002258  0.002313  0.002118  0.002343  0.002250  0.002587   \n",
       "\n",
       "     pred_8    pred_9   pred_10   pred_11   pred_12   pred_13   pred_14  \\\n",
       "0  0.002991  0.003046  0.003250  0.003090  0.003149  0.002690  0.002516   \n",
       "1  0.002028  0.002459  0.002312  0.001856  0.002003  0.002123  0.002108   \n",
       "2  0.002249  0.002497  0.002378  0.002280  0.002291  0.002206  0.002348   \n",
       "3  0.002378  0.002684  0.002614  0.002153  0.002150  0.002243  0.002653   \n",
       "4  0.002292  0.002352  0.002558  0.002064  0.002209  0.002011  0.002062   \n",
       "\n",
       "    pred_15   pred_16   pred_17  \n",
       "0  0.002553  0.002854  0.002855  \n",
       "1  0.002202  0.001942  0.002289  \n",
       "2  0.002437  0.002302  0.002713  \n",
       "3  0.002657  0.002361  0.002874  \n",
       "4  0.002234  0.002247  0.002493  "
      ]
     },
     "execution_count": 267,
     "metadata": {},
     "output_type": "execute_result"
    }
   ],
   "source": [
    "preds_df.head()"
   ]
  },
  {
   "cell_type": "code",
   "execution_count": 268,
   "metadata": {},
   "outputs": [],
   "source": [
    "sub = pd.DataFrame({'id':df_f_t['id'], 'is_click':preds_df.mean(1)})"
   ]
  },
  {
   "cell_type": "code",
   "execution_count": 269,
   "metadata": {},
   "outputs": [],
   "source": [
    "sub.to_csv('/Users/aakashkerawat/NotebookProjects/AV_click/sub50_0.654_seed_en_17.csv', index=False)"
   ]
  },
  {
   "cell_type": "markdown",
   "metadata": {},
   "source": [
    "### Experiement"
   ]
  },
  {
   "cell_type": "code",
   "execution_count": 159,
   "metadata": {},
   "outputs": [],
   "source": [
    "# # df_all_user = df_all.loc[df_all.user_id==df_all.user_id.unique()[1]]\n",
    "\n",
    "# use_cols = ['id', 'user_id', 'send_date', 'communication_type', 'Conference_count_new' ,'Corporate_count_new' ,'Hackathon_count_new', 'Newsletter_count_new', 'Others_count_new', 'Upcoming Events_count_new', 'Webinar_count_new']\n",
    "\n",
    "# df_t.loc[df_t.user_id==6][use_cols]\n",
    "\n",
    "# df_all_user[use_cols]\n",
    "\n",
    "# df_all.drop(['Conference_count_new' ,'Corporate_count_new' ,'Hackathon_count_new', 'Newsletter_count_new', 'Others_count_new', 'Upcoming Events_count_new', 'Webinar_count_new'], 1, inplace=True)\n",
    "\n",
    "# def get_cummulative_comm_count(df_temp):\n",
    "#     return pd.get_dummies(df_temp['communication_type']).cumsum()\n",
    "\n",
    "# df_all = pd.concat([df, df_t])\n",
    "\n",
    "# df_all = df_all.sort_values(['user_id', 'send_date']).reset_index(drop=True)\n",
    "\n",
    "# comm_types = df_all.groupby('user_id').progress_apply(get_cummulative_comm_count)\n",
    "\n",
    "# comm_types.columns = comm_types.columns+'_count_new'\n",
    "\n",
    "# comm_types.fillna(0, inplace=True)\n",
    "\n",
    "# comm_types.replace(0, np.nan, inplace=True)\n",
    "\n",
    "# df_all = pd.concat([df_all, comm_types] ,1)\n",
    "\n",
    "# df_all['Conference_count_new'].head()\n",
    "\n",
    "# df = df_all.loc[df_all['id'].isin(df['id'].unique())].reset_index(drop=True)\n",
    "\n",
    "# df_t = df_all.loc[df_all['id'].isin(df_t['id'].unique())].reset_index(drop=True)\n",
    "\n",
    "# path = '/Users/aakashkerawat/NotebookProjects/AV_click/'\n",
    "\n",
    "# sub1 = pd.read_csv(path+'sub37_best_model_catboost.csv')\n",
    "\n",
    "# sub2 = pd.read_csv(path+'sub_33_last_open_before_days_added.csv')\n",
    "\n",
    "# sub2.shape\n",
    "\n",
    "# sub_m = pd.merge(sub1, sub2, 'inner', ['id'])\n",
    "\n",
    "# from scipy.stats import hmean\n",
    "\n",
    "# sub_m.max()\n",
    "\n",
    "# preds_n = sub_m['is_click_x']*0.2+sub_m['is_click_y']*0.8\n",
    "\n",
    "# sub_n = pd.DataFrame({'id':sub_m['id'], 'is_click':hmean(sub_m[['is_click_x', 'is_click_y']], 1)})\n",
    "\n",
    "# sub_n.to_csv(path+'sub_cat_and_light_2.csv', index=False)\n",
    "\n",
    "# ### experiment/\n",
    "\n",
    "# df_u = df.loc[df.user_id==df.user_id.unique()[1]].reset_index(drop=True)\n",
    "\n",
    "# df_u_all = pd.concat([df.loc[df.user_id==12].reset_index(drop=True), df_t.loc[df_t.user_id==12]])\n",
    "\n",
    "# df_u_all.is_click.value_counts()\n",
    "\n",
    "# df_u_all = df_u_all.sort_values('send_date').reset_index(drop=True)\n",
    "\n",
    "# df_u_all['last_click_date'] = df_u_all.loc[df_u_all.is_click.fillna(0).astype(bool), 'send_date']\n",
    "\n",
    "# df_u_all[['id', 'user_id', 'is_click', 'send_date', 'last_click_date', 'last_click_before_days']]\n",
    "\n"
   ]
  },
  {
   "cell_type": "code",
   "execution_count": 174,
   "metadata": {},
   "outputs": [
    {
     "name": "stdout",
     "output_type": "stream",
     "text": [
      "id            80_99976\n",
      "is_click_x    0.794254\n",
      "is_click_y    0.360991\n",
      "dtype: object\n"
     ]
    }
   ],
   "source": [
    "path = '/Users/aakashkerawat/NotebookProjects/AV_click/'\n",
    "\n",
    "sub1 = pd.read_csv(path+'sub41_comm_type_ratio.csv')\n",
    "\n",
    "sub2 = pd.read_csv(path+'sub40best_model_clean_code_check.csv')\n",
    "\n",
    "# sub2.shape\n",
    "\n",
    "sub_m = pd.merge(sub1, sub2, 'inner', ['id'])\n",
    "\n",
    "from scipy.stats import hmean\n",
    "\n",
    "print sub_m.max()\n",
    "\n",
    "# preds_n = sub_m['is_click_x']*0.2+sub_m['is_click_y']*0.8\n",
    "\n",
    "sub_n = pd.DataFrame({'id':sub_m['id'], 'is_click':sub_m[['is_click_x', 'is_click_y']].mean(1)})\n",
    "\n",
    "sub_n.to_csv(path+'sub_42_4041_mean.csv', index=False)"
   ]
  },
  {
   "cell_type": "code",
   "execution_count": null,
   "metadata": {},
   "outputs": [],
   "source": []
  }
 ],
 "metadata": {
  "kernelspec": {
   "display_name": "Python 2",
   "language": "python",
   "name": "python2"
  },
  "language_info": {
   "codemirror_mode": {
    "name": "ipython",
    "version": 2
   },
   "file_extension": ".py",
   "mimetype": "text/x-python",
   "name": "python",
   "nbconvert_exporter": "python",
   "pygments_lexer": "ipython2",
   "version": "2.7.14"
  }
 },
 "nbformat": 4,
 "nbformat_minor": 2
}
